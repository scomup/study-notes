{
 "cells": [
  {
   "cell_type": "markdown",
   "metadata": {
    "nbpresent": {
     "id": "700655a3-07ad-4ca1-9a1b-b5de28b249c9"
    }
   },
   "source": [
    "# Least squares\n"
   ]
  },
  {
   "cell_type": "markdown",
   "metadata": {
    "nbpresent": {
     "id": "dedc520a-7b64-4c5a-83e4-d05f3ad1e468"
    }
   },
   "source": [
    "### Example:\n",
    "Get a set of data by experiment.<br>\n",
    "Datas: $\\{1,6\\}$,$\\{2,5\\}$,$\\{3,7\\}$,$\\{4,10\\}$"
   ]
  },
  {
   "cell_type": "code",
   "execution_count": 21,
   "metadata": {
    "collapsed": false,
    "nbpresent": {
     "id": "0cf65e53-027a-4082-aca7-a5ea4458e8f7"
    },
    "scrolled": true
   },
   "outputs": [
    {
     "data": {
      "image/png": "[encoded data removed]",
      "text/plain": [
       "<matplotlib.figure.Figure at 0x7fc9bb0adf50>"
      ]
     },
     "metadata": {},
     "output_type": "display_data"
    }
   ],
   "source": [
    "import numpy as np\n",
    "import matplotlib.pyplot as plt\n",
    "\n",
    "datas = np.matrix([[1, 6], [2, 5], [3, 7], [4, 10]])\n",
    "plt.scatter(datas[:,0], datas[:,1],c='red')\n",
    "plt.show()"
   ]
  },
  {
   "cell_type": "markdown",
   "metadata": {
    "nbpresent": {
     "id": "65874836-e7b2-480e-9259-be00447045a4"
    }
   },
   "source": [
    "Try to find a line fit above datas.<br>\n",
    "   $y=ax+b$<br>\n",
    "(find optimal parameters: $a$ and $b$)<p>\n",
    "We plug the datas into the equation<br>\n",
    "$6\\rightarrow1a+b$<br>\n",
    "$5\\rightarrow2a+b$<br>\n",
    "$7\\rightarrow3a+b$<br>\n",
    "$10\\rightarrow4a+b$<p>\n",
    "\n",
    "The over all variances.<br>\n",
    "$S=(1a+b-6)^2+(2a+b-5)^2+(3a+b-7)^2+(4a+b-10)^2$<br>\n",
    "Find the optimal parameters, minimize the $S$.<br> \n",
    "\n",
    "$\\dfrac{\\partial{S}}{\\partial{a}}=20a+60b-154$<br>\n",
    "$\\dfrac{\\partial{S}}{\\partial{b}}=20a+8b-56$<p>\n",
    "Solve above equations. We can get:<br>\n",
    "$a = 1.4$<br>\n",
    "$b = 3.5$<br>\n"
   ]
  },
  {
   "cell_type": "markdown",
   "metadata": {
    "nbpresent": {
     "id": "6a8af5e6-206c-4c9c-96ea-ba1eb34ff093"
    }
   },
   "source": [
    "### Use Linear algebra:"
   ]
  },
  {
   "cell_type": "markdown",
   "metadata": {
    "nbpresent": {
     "id": "77b0b685-163e-40aa-b867-6b6bf254ea10"
    }
   },
   "source": [
    "$6\\rightarrow1a+b$<br>\n",
    "$5\\rightarrow2a+b$<br>\n",
    "$7\\rightarrow3a+b$<br>\n",
    "$10\\rightarrow4a+b$<p>\n",
    "\n",
    "We rewrite above equations to matrix equations:<br>\n",
    "$\n",
    "\\begin{bmatrix} 6 \\\\ 5 \\\\ 7 \\\\ 10  \\end{bmatrix} \\rightarrow\n",
    "\\begin{bmatrix} 1 & 1  \\\\ 2 & 1  \\\\  3 & 1  \\\\ 4 & 1  \\\\ \\end{bmatrix} \n",
    "\\begin{bmatrix} a \\\\ b  \\end{bmatrix} \n",
    "$<br>\n",
    "The over all variances.<br>\n",
    "\n",
    "$\n",
    "S=\\left\\|\\begin{matrix} 6-1a-b \\\\ 5-2a-b \\\\ 7-3a-b \\\\ 10-4a-b  \\end{matrix}\\right\\|\n",
    "$\n",
    "\n",
    "$S=(1a+b-6)^2+(2a+b-5)^2+(3a+b-7)^2+(4a+b-10)^2$<br>\n",
    "Find the optimal parameters, minimize the $S$.<br> \n",
    "\n",
    "$0=20a+60b-154$<br>\n",
    "$0=20a+8b-56$<p>\n",
    "Rewrite to matrix equations:<br>\n",
    "$\n",
    "\\begin{bmatrix} 154 \\\\ 56 \\\\  \\end{bmatrix}=\n",
    "\\begin{bmatrix} 20 & 60  \\\\ 20 & 8 \\\\ \\end{bmatrix} \n",
    "\\begin{bmatrix} a \\\\ b  \\end{bmatrix}\n",
    "$<br>\n",
    "\n",
    "$\\begin{bmatrix} 1 & 1  \\\\ 2 & 1  \\\\  3 & 1  \\\\ 4 & 1  \\\\ \\end{bmatrix}^T \n",
    "\\begin{bmatrix} 6  \\\\ 5  \\\\  7  \\\\ 10  \\\\ \\end{bmatrix} \n",
    "=\\begin{bmatrix} 1 & 1  \\\\ 2 & 1  \\\\  3 & 1  \\\\ 4 & 1  \\\\ \\end{bmatrix}^T \n",
    "\\begin{bmatrix} 1 & 1  \\\\ 2 & 1  \\\\  3 & 1  \\\\ 4 & 1  \\\\ \\end{bmatrix}\n",
    "\\begin{bmatrix} a \\\\ b  \\end{bmatrix}\n",
    "$<p>\n",
    "So:<br>\n",
    "$\n",
    "\\left(\\begin{bmatrix} 1 & 1  \\\\ 2 & 1  \\\\  3 & 1  \\\\ 4 & 1  \\\\ \\end{bmatrix}^T \n",
    "\\begin{bmatrix} 1 & 1  \\\\ 2 & 1  \\\\  3 & 1  \\\\ 4 & 1  \\\\ \\end{bmatrix}\n",
    "\\right)^{-1}\n",
    "$\n",
    "$\n",
    "\\begin{bmatrix} 1 & 1  \\\\ 2 & 1  \\\\  3 & 1  \\\\ 4 & 1  \\\\ \\end{bmatrix}^T \n",
    "\\begin{bmatrix} 6  \\\\ 5  \\\\  7  \\\\ 10  \\\\ \\end{bmatrix}\n",
    "$\n",
    "$\n",
    "=\\begin{bmatrix} a \\\\ b  \\end{bmatrix}\n",
    "$\n",
    "\n",
    "Here, we can use following equation to solve least squares problem.<br>\n",
    "\n",
    "$w = (\\phi^T\\phi)^{-1}\\phi t$\n",
    "\n",
    "\n",
    "\n",
    "\n",
    "\n"
   ]
  },
  {
   "cell_type": "code",
   "execution_count": 22,
   "metadata": {
    "collapsed": false,
    "nbpresent": {
     "id": "2030247e-f497-435d-891b-aa1e352ba648"
    }
   },
   "outputs": [
    {
     "name": "stdout",
     "output_type": "stream",
     "text": [
      "[[ 1.  2.  3.  4.]\n",
      " [ 1.  1.  1.  1.]]\n",
      "[[ 1.  1.]\n",
      " [ 2.  1.]\n",
      " [ 3.  1.]\n",
      " [ 4.  1.]]\n"
     ]
    },
    {
     "data": {
      "image/png": "[encoded data removed]",
      "text/plain": [
       "<matplotlib.figure.Figure at 0x7fc9bb1f7410>"
      ]
     },
     "metadata": {},
     "output_type": "display_data"
    }
   ],
   "source": [
    "A = range(1,5)\n",
    "B = np.ones(4)\n",
    "phi = np.matrix([A,B]).T\n",
    "print phi.T\n",
    "print phi\n",
    "\n",
    "w = np.linalg.inv(phi.T*phi)*phi.T*datas[:,1]\n",
    "x=np.arange(0,5,0.01)\n",
    "def y_predicted(x): return w[0]*x+w[1]\n",
    "y = np.array(y_predicted(x))[0]\n",
    "plt.scatter(datas[:,0], datas[:,1],c='red')\n",
    "plt.plot(x,y)\n",
    "plt.show()"
   ]
  }
 ],
 "metadata": {
  "anaconda-cloud": {
   "attach-environment": true,
   "url": "https://anaconda.org/scomup/study-notes-least-squares"
  },
  "kernelspec": {
   "display_name": "Python [default]",
   "language": "python",
   "name": "python2"
  },
  "language_info": {
   "codemirror_mode": {
    "name": "ipython",
    "version": 2
   },
   "file_extension": ".py",
   "mimetype": "text/x-python",
   "name": "python",
   "nbconvert_exporter": "python",
   "pygments_lexer": "ipython2",
   "version": "2.7.12"
  }
 },
 "nbformat": 4,
 "nbformat_minor": 1
}
