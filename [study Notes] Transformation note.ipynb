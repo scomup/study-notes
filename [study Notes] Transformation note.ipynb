{
 "cells": [
  {
   "cell_type": "markdown",
   "metadata": {},
   "source": [
    "### 記号説明：\n",
    "    R:回転　　\n",
    "    t:平行移動　　\n",
    "    c:カメラ　　\n",
    "    w:世界座標　　\n",
    "    wc:世界座標から観察されたカメラ　　\n",
    "    cw:カメラの座標から観察された世界　\n",
    "\n",
    "### 座標系変換:\n",
    "$R_{wc} = R_{cw}^T$<br>\n",
    "$t_{wc} = -R_{wc} \\times t_{cw}$<br>\n",
    "\n",
    "### 点の座標系変換：\n",
    "$P_w$: 3d点の世界座標<br>\n",
    "$P_c$: 3d点のカメラ座標<br>\n",
    "$P_c = R_{cw} \\times P_w+t_{cw}$<br>\n",
    "$P_w = R_{cw}^T \\times (P_c - t_{cw})$<br>\n",
    "$P_w = R_{wc} \\times P_c + t_{wc}$<br>\n",
    "    \n",
    "### カメラ間関係の計算：\n",
    "$R_{c_1c_2} = R_{wc_2} \\times R_{c_1w}$<br>\n",
    "$t_{c_1c_2} = R_{c_1w} \\times (-R_{wc_2}*t_{c_2w})+t_{c_1w}$<br>\n"
   ]
  },
  {
   "cell_type": "markdown",
   "metadata": {},
   "source": []
  }
 ],
 "metadata": {
  "anaconda-cloud": {},
  "kernelspec": {
   "display_name": "Python [default]",
   "language": "python",
   "name": "python2"
  },
  "language_info": {
   "codemirror_mode": {
    "name": "ipython",
    "version": 2
   },
   "file_extension": ".py",
   "mimetype": "text/x-python",
   "name": "python",
   "nbconvert_exporter": "python",
   "pygments_lexer": "ipython2",
   "version": "2.7.12"
  }
 },
 "nbformat": 4,
 "nbformat_minor": 1
}
